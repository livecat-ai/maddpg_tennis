{
 "cells": [
  {
   "cell_type": "code",
   "execution_count": 1,
   "metadata": {},
   "outputs": [],
   "source": [
    "import os\n",
    "from unityagents import UnityEnvironment\n",
    "import numpy as np\n",
    "import torch\n",
    "# from ddpg_agent import Agent, OUNoise, ReplayBuffer\n",
    "from maddpg import MaddpgAgent"
   ]
  },
  {
   "cell_type": "code",
   "execution_count": 2,
   "metadata": {},
   "outputs": [
    {
     "name": "stderr",
     "output_type": "stream",
     "text": [
      "INFO:unityagents:\n",
      "'Academy' started successfully!\n",
      "Unity Academy name: Academy\n",
      "        Number of Brains: 1\n",
      "        Number of External Brains : 1\n",
      "        Lesson number : 0\n",
      "        Reset Parameters :\n",
      "\t\t\n",
      "Unity brain name: TennisBrain\n",
      "        Number of Visual Observations (per agent): 0\n",
      "        Vector Observation space type: continuous\n",
      "        Vector Observation space size (per agent): 8\n",
      "        Number of stacked Vector Observation: 3\n",
      "        Vector Action space type: continuous\n",
      "        Vector Action space size (per agent): 2\n",
      "        Vector Action descriptions: , \n"
     ]
    }
   ],
   "source": [
    "root_dir = \"C:/Users/johnb/repos/Udacity/deep-reinforcement-learning/p3_collab-compet/Tennis_Windows_x86_64\"\n",
    "env = UnityEnvironment(file_name=root_dir+\"/Tennis.exe\")\n",
    "log_path = os.getcwd()+\"/log\"\n",
    "model_dir= os.getcwd()+\"/model_dir\"\n",
    "\n",
    "os.makedirs(model_dir, exist_ok=True)"
   ]
  },
  {
   "cell_type": "code",
   "execution_count": 3,
   "metadata": {},
   "outputs": [],
   "source": [
    "# # get the default brain\n",
    "# brain_name = env.brain_names[0]\n",
    "# brain = env.brains[brain_name]"
   ]
  },
  {
   "cell_type": "code",
   "execution_count": 4,
   "metadata": {},
   "outputs": [],
   "source": [
    "# reset the environment\n",
    "# env_info = env.reset(train_mode=True)[brain_name]\n",
    "\n",
    "# # number of agents \n",
    "# num_agents = len(env_info.agents)\n",
    "# print('Number of agents:', num_agents)\n",
    "\n",
    "# # size of each action\n",
    "# action_size = brain.vector_action_space_size\n",
    "# print('Size of each action:', action_size)\n",
    "\n",
    "# # examine the state space \n",
    "# states = env_info.vector_observations\n",
    "# state_size = states.shape[1]\n",
    "# print('There are {} agents. Each observes a state with length: {}'.format(states.shape[0], state_size))\n",
    "# print('The state for the first agent looks like:', states[0])\n"
   ]
  },
  {
   "cell_type": "code",
   "execution_count": 5,
   "metadata": {},
   "outputs": [],
   "source": [
    "NUM_EPISODES = 1000\n",
    "MAX_STEPS = 1000\n",
    "# NOISE = 0.5\n",
    "NOISE_REDUCTION = 1.0\n",
    "STEPS_PER_UPDATE = 1"
   ]
  },
  {
   "cell_type": "code",
   "execution_count": 6,
   "metadata": {},
   "outputs": [],
   "source": [
    "def run(env, num_episodes, max_steps, steps_per_update):\n",
    "    # root_dir = \"C:/Users/johnb/repos/Udacity/deep-reinforcement-learning/p3_collab-compet/Tennis_Windows_x86_64\"\n",
    "    # env = UnityEnvironment(file_name=root_dir+\"/Tennis.exe\")\n",
    "    log_path = os.getcwd()+\"/log\"\n",
    "    model_dir= os.getcwd()+\"/model_dir\"\n",
    "    \n",
    "    os.makedirs(model_dir, exist_ok=True)\n",
    "\n",
    "    # get the default brain\n",
    "    brain_name = env.brain_names[0]\n",
    "    brain = env.brains[brain_name]\n",
    "\n",
    "    # reset the environment\n",
    "    env_info = env.reset(train_mode=True)[brain_name]\n",
    "\n",
    "    # number of agents \n",
    "    num_agents = len(env_info.agents)\n",
    "    print('Number of agents:', num_agents)\n",
    "\n",
    "    # size of each action\n",
    "    action_size = brain.vector_action_space_size\n",
    "    print('Size of each action:', action_size)\n",
    "\n",
    "    # examine the state space \n",
    "    states = env_info.vector_observations\n",
    "    state_size = states.shape[1]\n",
    "    print('There are {} agents. Each observes a state with length: {}'.format(states.shape[0], state_size))\n",
    "    print('The state for the first agent looks like:', states[0])\n",
    "\n",
    "    maddpg_agent = MaddpgAgent(state_size, action_size, discount_factor=0.99, tau = 1e-2,\n",
    "                        num_agents=num_agents, buffer_size=int(1e5), batch_size=128, seed=44)\n",
    "    \n",
    "    total_steps = 0\n",
    "    scores = []\n",
    "    best_score = 0\n",
    "    for episode in range(num_episodes):                                         # play game for 5 episodes\n",
    "        env_info = env.reset(train_mode=True)[brain_name]     # reset the environment    \n",
    "        obs = env_info.vector_observations                  # get the current state (for each agent)\n",
    "        score = np.zeros(num_agents)                          # initialize the score (for each agent)\n",
    "        # while True:\n",
    "        for _ in range(max_steps):\n",
    "            actions = maddpg_agent.get_actions(obs) # select an action (for each agent)\n",
    "            env_info = env.step(actions)[brain_name]           # send all actions to tne environment\n",
    "            next_obs = env_info.vector_observations         # get next state (for each agent)\n",
    "            rewards = env_info.rewards                         # get reward (for each agent)\n",
    "            dones = env_info.local_done                        # see if episode finished\n",
    "            maddpg_agent.update(obs, actions, rewards, next_obs, dones)\n",
    "            score += rewards                                   # update the score (for each agent)   \n",
    "\n",
    "            obs = next_obs                              # roll over states to next time step\n",
    "\n",
    "            total_steps += 1\n",
    "\n",
    "            if np.any(dones):                                  # exit loop if episode finished\n",
    "                break\n",
    "\n",
    "        scores.append(np.max(score))\n",
    "\n",
    "        if (episode % 100 == 0 or episode == num_episodes-1) and episode != 0:\n",
    "            mean_scores = np.mean(scores[-100:])\n",
    "            print('Ep: {} Average score: {}'.format(episode, mean_scores))\n",
    "\n",
    "            if mean_scores > best_score:\n",
    "                #saving model\n",
    "                save_dict_list =[] \n",
    "                for i in range(num_agents):\n",
    "\n",
    "                    save_dict = {'actor_params' : maddpg_agent.agents[i].actor_local.state_dict(),\n",
    "                                'actor_optim_params': maddpg_agent.agents[i].actor_optimizer.state_dict(),\n",
    "                                'critic_params' : maddpg_agent.agents[i].critic_local.state_dict(),\n",
    "                                'critic_optim_params' : maddpg_agent.agents[i].critic_optimizer.state_dict()}\n",
    "                    save_dict_list.append(save_dict)\n",
    "\n",
    "                    torch.save(save_dict_list, \n",
    "                            os.path.join(model_dir, 'episode-{}.pt'.format(episode)))\n",
    "                best_score = mean_scores\n",
    "        # if best_score > 0.5:\n",
    "        #     break\n",
    "\n",
    "        \n",
    "\n",
    "    return scores"
   ]
  },
  {
   "cell_type": "code",
   "execution_count": 7,
   "metadata": {},
   "outputs": [
    {
     "name": "stdout",
     "output_type": "stream",
     "text": [
      "Number of agents: 2\n",
      "Size of each action: 2\n",
      "There are 2 agents. Each observes a state with length: 24\n",
      "The state for the first agent looks like: [ 0.          0.          0.          0.          0.          0.\n",
      "  0.          0.          0.          0.          0.          0.\n",
      "  0.          0.          0.          0.         -6.65278625 -1.5\n",
      " -0.          0.          6.83172083  6.         -0.          0.        ]\n",
      "Ep: 100 Average score: 0.003800000064074993\n",
      "Ep: 200 Average score: 0.010800000168383122\n",
      "Ep: 300 Average score: 0.054100000914186236\n",
      "Ep: 400 Average score: 0.06820000104606151\n",
      "Ep: 500 Average score: 0.08090000128373503\n",
      "Ep: 600 Average score: 0.1494000022485852\n",
      "Ep: 700 Average score: 1.2101000181213022\n",
      "Ep: 800 Average score: 1.024100015293807\n",
      "Ep: 900 Average score: 1.4368000214546919\n",
      "Ep: 999 Average score: 1.4160000211559236\n"
     ]
    }
   ],
   "source": [
    "NUM_EPISODES = 1000\n",
    "MAX_STEPS = 2000\n",
    "STEPS_PER_UPDATE = 1\n",
    "\n",
    "scores = run(env, NUM_EPISODES, MAX_STEPS, STEPS_PER_UPDATE)\n",
    "\n",
    "env.close()\n"
   ]
  }
 ],
 "metadata": {
  "kernelspec": {
   "display_name": "drlnd",
   "language": "python",
   "name": "python3"
  },
  "language_info": {
   "codemirror_mode": {
    "name": "ipython",
    "version": 3
   },
   "file_extension": ".py",
   "mimetype": "text/x-python",
   "name": "python",
   "nbconvert_exporter": "python",
   "pygments_lexer": "ipython3",
   "version": "3.6.13"
  },
  "orig_nbformat": 4
 },
 "nbformat": 4,
 "nbformat_minor": 2
}
