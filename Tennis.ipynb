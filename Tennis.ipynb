{
 "cells": [
  {
   "cell_type": "code",
   "execution_count": 1,
   "metadata": {},
   "outputs": [],
   "source": [
    "import os\n",
    "from unityagents import UnityEnvironment\n",
    "import numpy as np\n",
    "import torch\n",
    "# from ddpg_agent import Agent, OUNoise, ReplayBuffer\n",
    "from maddpg import MaddpgAgent"
   ]
  },
  {
   "cell_type": "code",
   "execution_count": 2,
   "metadata": {},
   "outputs": [],
   "source": [
    "# root_dir = \"C:/Users/johnb/repos/Udacity/deep-reinforcement-learning/p3_collab-compet/Tennis_Windows_x86_64\"\n",
    "# env = UnityEnvironment(file_name=root_dir+\"/Tennis.exe\")\n",
    "# log_path = os.getcwd()+\"/log\"\n",
    "# model_dir= os.getcwd()+\"/model_dir\"\n",
    "\n",
    "# os.makedirs(model_dir, exist_ok=True)"
   ]
  },
  {
   "cell_type": "code",
   "execution_count": 3,
   "metadata": {},
   "outputs": [],
   "source": [
    "# # get the default brain\n",
    "# brain_name = env.brain_names[0]\n",
    "# brain = env.brains[brain_name]"
   ]
  },
  {
   "cell_type": "code",
   "execution_count": 4,
   "metadata": {},
   "outputs": [],
   "source": [
    "# reset the environment\n",
    "# env_info = env.reset(train_mode=True)[brain_name]\n",
    "\n",
    "# # number of agents \n",
    "# num_agents = len(env_info.agents)\n",
    "# print('Number of agents:', num_agents)\n",
    "\n",
    "# # size of each action\n",
    "# action_size = brain.vector_action_space_size\n",
    "# print('Size of each action:', action_size)\n",
    "\n",
    "# # examine the state space \n",
    "# states = env_info.vector_observations\n",
    "# state_size = states.shape[1]\n",
    "# print('There are {} agents. Each observes a state with length: {}'.format(states.shape[0], state_size))\n",
    "# print('The state for the first agent looks like:', states[0])\n"
   ]
  },
  {
   "cell_type": "code",
   "execution_count": 5,
   "metadata": {},
   "outputs": [],
   "source": [
    "NUM_EPISODES = 1000\n",
    "MAX_STEPS = 1000\n",
    "# NOISE = 0.5\n",
    "NOISE_REDUCTION = 1.0\n",
    "STEPS_PER_UPDATE = 1"
   ]
  },
  {
   "cell_type": "code",
   "execution_count": 6,
   "metadata": {},
   "outputs": [],
   "source": [
    "def run(num_episodes, max_steps, steps_per_update):\n",
    "    root_dir = \"C:/Users/johnb/repos/Udacity/deep-reinforcement-learning/p3_collab-compet/Tennis_Windows_x86_64\"\n",
    "    env = UnityEnvironment(file_name=root_dir+\"/Tennis.exe\")\n",
    "    log_path = os.getcwd()+\"/log\"\n",
    "    model_dir= os.getcwd()+\"/model_dir\"\n",
    "    \n",
    "    os.makedirs(model_dir, exist_ok=True)\n",
    "\n",
    "    # get the default brain\n",
    "    brain_name = env.brain_names[0]\n",
    "    brain = env.brains[brain_name]\n",
    "\n",
    "    # reset the environment\n",
    "    env_info = env.reset(train_mode=True)[brain_name]\n",
    "\n",
    "    # number of agents \n",
    "    num_agents = len(env_info.agents)\n",
    "    print('Number of agents:', num_agents)\n",
    "\n",
    "    # size of each action\n",
    "    action_size = brain.vector_action_space_size\n",
    "    print('Size of each action:', action_size)\n",
    "\n",
    "    # examine the state space \n",
    "    states = env_info.vector_observations\n",
    "    state_size = states.shape[1]\n",
    "    print('There are {} agents. Each observes a state with length: {}'.format(states.shape[0], state_size))\n",
    "    print('The state for the first agent looks like:', states[0])\n",
    "\n",
    "    maddpg_agent = MaddpgAgent(state_size, action_size, discount_factor=0.99, tau = 1e-2,\n",
    "                        num_agents=num_agents, buffer_size=int(1e5), batch_size=128, seed=44)\n",
    "    \n",
    "    total_steps = 0\n",
    "    scores = []\n",
    "    best_score = 0\n",
    "    for episode in range(num_episodes):                                         # play game for 5 episodes\n",
    "        env_info = env.reset(train_mode=True)[brain_name]     # reset the environment    \n",
    "        obs = env_info.vector_observations                  # get the current state (for each agent)\n",
    "        score = np.zeros(num_agents)                          # initialize the score (for each agent)\n",
    "        # while True:\n",
    "        for _ in range(max_steps):\n",
    "            actions = maddpg_agent.get_actions(obs) # select an action (for each agent)\n",
    "            env_info = env.step(actions)[brain_name]           # send all actions to tne environment\n",
    "            next_obs = env_info.vector_observations         # get next state (for each agent)\n",
    "            rewards = env_info.rewards                         # get reward (for each agent)\n",
    "            dones = env_info.local_done                        # see if episode finished\n",
    "            maddpg_agent.update(obs, actions, rewards, next_obs, dones)\n",
    "            score += rewards                                   # update the score (for each agent)   \n",
    "\n",
    "            obs = next_obs                              # roll over states to next time step\n",
    "\n",
    "            total_steps += 1\n",
    "\n",
    "            if np.any(dones):                                  # exit loop if episode finished\n",
    "                break\n",
    "\n",
    "        scores.append(np.max(score))\n",
    "\n",
    "        if (episode % 100 == 0 or episode == num_episodes-1) and episode != 0:\n",
    "            mean_scores = np.mean(scores[-100:])\n",
    "            print('Ep: {} Average score: {}'.format(episode, mean_scores))\n",
    "\n",
    "            if mean_scores > best_score:\n",
    "                #saving model\n",
    "                save_dict_list =[] \n",
    "                for i in range(2):\n",
    "\n",
    "                    save_dict = {'actor_params' : maddpg_agent.agents[i].actor_local.state_dict(),\n",
    "                                'actor_optim_params': maddpg_agent.agents[i].actor_optimizer.state_dict(),\n",
    "                                'critic_params' : maddpg_agent.agents[i].critic_local.state_dict(),\n",
    "                                'critic_optim_params' : maddpg_agent.agents[i].critic_optimizer.state_dict()}\n",
    "                    save_dict_list.append(save_dict)\n",
    "\n",
    "                    torch.save(save_dict_list, \n",
    "                            os.path.join(model_dir, 'episode-{}.pt'.format(episode)))\n",
    "                best_score = mean_scores\n",
    "        if best_score > 0.5:\n",
    "            break\n",
    "\n",
    "        env.close()\n",
    "\n",
    "    return scores"
   ]
  },
  {
   "cell_type": "code",
   "execution_count": 7,
   "metadata": {},
   "outputs": [
    {
     "ename": "TypeError",
     "evalue": "run() missing 1 required positional argument: 'steps_per_update'",
     "output_type": "error",
     "traceback": [
      "\u001b[1;31m---------------------------------------------------------------------------\u001b[0m",
      "\u001b[1;31mTypeError\u001b[0m                                 Traceback (most recent call last)",
      "\u001b[1;32m<ipython-input-7-bc0104fd8bf5>\u001b[0m in \u001b[0;36m<module>\u001b[1;34m\u001b[0m\n\u001b[0;32m      3\u001b[0m \u001b[0mSTEPS_PER_UPDATE\u001b[0m \u001b[1;33m=\u001b[0m \u001b[1;36m1\u001b[0m\u001b[1;33m\u001b[0m\u001b[1;33m\u001b[0m\u001b[0m\n\u001b[0;32m      4\u001b[0m \u001b[1;33m\u001b[0m\u001b[0m\n\u001b[1;32m----> 5\u001b[1;33m \u001b[0mscores\u001b[0m \u001b[1;33m=\u001b[0m \u001b[0mrun\u001b[0m\u001b[1;33m(\u001b[0m\u001b[0mNUM_EPISODES\u001b[0m\u001b[1;33m,\u001b[0m \u001b[0mMAX_STEPS\u001b[0m\u001b[1;33m,\u001b[0m \u001b[0mSTEPS_PER_UPDATE\u001b[0m\u001b[1;33m)\u001b[0m\u001b[1;33m\u001b[0m\u001b[1;33m\u001b[0m\u001b[0m\n\u001b[0m",
      "\u001b[1;31mTypeError\u001b[0m: run() missing 1 required positional argument: 'steps_per_update'"
     ]
    }
   ],
   "source": [
    "NUM_EPISODES = 1000\n",
    "MAX_STEPS = 2000\n",
    "STEPS_PER_UPDATE = 1\n",
    "\n",
    "scores = run(NUM_EPISODES, MAX_STEPS, STEPS_PER_UPDATE)\n"
   ]
  }
 ],
 "metadata": {
  "kernelspec": {
   "display_name": "drlnd",
   "language": "python",
   "name": "python3"
  },
  "language_info": {
   "codemirror_mode": {
    "name": "ipython",
    "version": 3
   },
   "file_extension": ".py",
   "mimetype": "text/x-python",
   "name": "python",
   "nbconvert_exporter": "python",
   "pygments_lexer": "ipython3",
   "version": "3.6.13"
  },
  "orig_nbformat": 4
 },
 "nbformat": 4,
 "nbformat_minor": 2
}
