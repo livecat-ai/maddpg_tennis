{
 "cells": [
  {
   "cell_type": "code",
   "execution_count": null,
   "metadata": {},
   "outputs": [],
   "source": [
    "import os\n",
    "from unityagents import UnityEnvironment\n",
    "import numpy as np\n",
    "import torch\n",
    "# from ddpg_agent import Agent, OUNoise, ReplayBuffer\n",
    "from maddpg import MaddpgAgent"
   ]
  },
  {
   "cell_type": "code",
   "execution_count": null,
   "metadata": {},
   "outputs": [],
   "source": [
    "root_dir = \"C:/Users/johnb/repos/Udacity/deep-reinforcement-learning/p3_collab-compet/Tennis_Windows_x86_64\"\n",
    "env = UnityEnvironment(file_name=root_dir+\"/Tennis.exe\")\n",
    "log_path = os.getcwd()+\"/log\"\n",
    "model_dir= os.getcwd()+\"/model_dir\"\n",
    "\n",
    "os.makedirs(model_dir, exist_ok=True)"
   ]
  },
  {
   "cell_type": "code",
   "execution_count": null,
   "metadata": {},
   "outputs": [],
   "source": [
    "# get the default brain\n",
    "brain_name = env.brain_names[0]\n",
    "brain = env.brains[brain_name]"
   ]
  },
  {
   "cell_type": "code",
   "execution_count": null,
   "metadata": {},
   "outputs": [],
   "source": [
    "# reset the environment\n",
    "env_info = env.reset(train_mode=True)[brain_name]\n",
    "\n",
    "# number of agents \n",
    "num_agents = len(env_info.agents)\n",
    "print('Number of agents:', num_agents)\n",
    "\n",
    "# size of each action\n",
    "action_size = brain.vector_action_space_size\n",
    "print('Size of each action:', action_size)\n",
    "\n",
    "# examine the state space \n",
    "states = env_info.vector_observations\n",
    "state_size = states.shape[1]\n",
    "print('There are {} agents. Each observes a state with length: {}'.format(states.shape[0], state_size))\n",
    "print('The state for the first agent looks like:', states[0])"
   ]
  },
  {
   "cell_type": "code",
   "execution_count": null,
   "metadata": {},
   "outputs": [],
   "source": [
    "NUM_EPISODES = 1000\n",
    "MAX_STEPS = 1000\n",
    "# NOISE = 0.5\n",
    "NOISE_REDUCTION = 1.0\n",
    "STEPS_PER_UPDATE = 1"
   ]
  },
  {
   "cell_type": "code",
   "execution_count": null,
   "metadata": {},
   "outputs": [],
   "source": [
    "num_episodes = NUM_EPISODES\n",
    "max_step = MAX_STEPS\n",
    "# noise = NOISE\n",
    "noise_reduction = NOISE_REDUCTION\n",
    "steps_per_update = STEPS_PER_UPDATE\n",
    "\n",
    "maddpg_agent = MaddpgAgent(state_size, action_size, discount_factor=0.99, tau = 1e-2,\n",
    "                    num_agents=num_agents, buffer_size=int(1e5), batch_size=128, seed=44)"
   ]
  },
  {
   "cell_type": "code",
   "execution_count": null,
   "metadata": {},
   "outputs": [],
   "source": [
    "total_steps = 0\n",
    "scores = []\n",
    "best_score = 0\n",
    "for episode in range(num_episodes):                                         # play game for 5 episodes\n",
    "    env_info = env.reset(train_mode=True)[brain_name]     # reset the environment    \n",
    "    obs = env_info.vector_observations                  # get the current state (for each agent)\n",
    "    score = np.zeros(num_agents)                          # initialize the score (for each agent)\n",
    "    while True:\n",
    "        # actions = np.random.randn(num_agents, action_size) # select an action (for each agent)\n",
    "        # actions = maddpg_agent.get_actions(obs, noise) # select an action (for each agent)\n",
    "        actions = maddpg_agent.get_actions(obs) # select an action (for each agent)\n",
    "        # actions = np.clip(actions, -1, 1)                  # all actions between -1 and 1\n",
    "        # print(actions)\n",
    "        env_info = env.step(actions)[brain_name]           # send all actions to tne environment\n",
    "        next_obs = env_info.vector_observations         # get next state (for each agent)\n",
    "        rewards = env_info.rewards                         # get reward (for each agent)\n",
    "        dones = env_info.local_done                        # see if episode finished\n",
    "        maddpg_agent.update(obs, actions, rewards, next_obs, dones)\n",
    "        score += rewards                                   # update the score (for each agent)\n",
    "        \n",
    "\n",
    "        obs = next_obs                              # roll over states to next time step\n",
    "\n",
    "        # noise *= noise_reduction\n",
    "        total_steps += 1\n",
    "\n",
    "        if np.any(dones):                                  # exit loop if episode finished\n",
    "            break\n",
    "\n",
    "    scores.append(np.max(score))\n",
    "\n",
    "    if (episode % 100 == 0 or episode == num_episodes-1) and episode != 0:\n",
    "        # print(actions)\n",
    "        # print(obs)\n",
    "        mean_scores = np.mean(scores[-100:])\n",
    "        print('Ep: {} Average score: {}'.format(episode, mean_scores))\n",
    "\n",
    "        if mean_scores > best_score:\n",
    "            #saving model\n",
    "            save_dict_list =[] \n",
    "            for i in range(2):\n",
    "\n",
    "                save_dict = {'actor_params' : maddpg_agent.agents[i].actor_local.state_dict(),\n",
    "                            'actor_optim_params': maddpg_agent.agents[i].actor_optimizer.state_dict(),\n",
    "                            'critic_params' : maddpg_agent.agents[i].critic_local.state_dict(),\n",
    "                            'critic_optim_params' : maddpg_agent.agents[i].critic_optimizer.state_dict()}\n",
    "                save_dict_list.append(save_dict)\n",
    "\n",
    "                torch.save(save_dict_list, \n",
    "                        os.path.join(model_dir, 'episode-{}.pt'.format(episode)))\n",
    "            best_score = mean_scores\n",
    "\n",
    "env.close()"
   ]
  }
 ],
 "metadata": {
  "language_info": {
   "name": "python"
  },
  "orig_nbformat": 4
 },
 "nbformat": 4,
 "nbformat_minor": 2
}
